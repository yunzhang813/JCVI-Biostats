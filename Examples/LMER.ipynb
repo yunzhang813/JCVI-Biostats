{
 "cells": [
  {
   "cell_type": "code",
   "execution_count": 7,
   "metadata": {},
   "outputs": [],
   "source": [
    "import pandas as pd\n",
    "import statsmodels.api as sm\n",
    "import statsmodels.formula.api as smf"
   ]
  },
  {
   "cell_type": "code",
   "execution_count": 8,
   "metadata": {},
   "outputs": [
    {
     "name": "stdout",
     "output_type": "stream",
     "text": [
      "The rpy2.ipython extension is already loaded. To reload it, use:\n",
      "  %reload_ext rpy2.ipython\n"
     ]
    }
   ],
   "source": [
    "%load_ext rpy2.ipython"
   ]
  },
  {
   "cell_type": "code",
   "execution_count": 9,
   "metadata": {},
   "outputs": [],
   "source": [
    "dat = pd.read_table(\"alpha_diversity_values.txt\")"
   ]
  },
  {
   "cell_type": "code",
   "execution_count": 10,
   "metadata": {},
   "outputs": [],
   "source": [
    "mod = smf.mixedlm(\"richness~flight\", dat, groups=dat[\"group\"])\n",
    "modf = mod.fit()"
   ]
  },
  {
   "cell_type": "code",
   "execution_count": 11,
   "metadata": {},
   "outputs": [
    {
     "name": "stdout",
     "output_type": "stream",
     "text": [
      "            Mixed Linear Model Regression Results\n",
      "=============================================================\n",
      "Model:              MixedLM   Dependent Variable:   richness \n",
      "No. Observations:   49        Method:               REML     \n",
      "No. Groups:         5         Scale:                706.2928 \n",
      "Min. group size:    9         Likelihood:           -228.0582\n",
      "Max. group size:    10        Converged:            Yes      \n",
      "Mean group size:    9.8                                      \n",
      "-------------------------------------------------------------\n",
      "                Coef.   Std.Err.   z    P>|z|  [0.025  0.975]\n",
      "-------------------------------------------------------------\n",
      "Intercept       190.730   26.774  7.124 0.000 138.253 243.206\n",
      "flight[T.post]  -30.528    9.563 -3.192 0.001 -49.271 -11.785\n",
      "flight[T.pre]   -18.551    9.173 -2.022 0.043 -36.531  -0.571\n",
      "Group Var      3362.435   95.594                             \n",
      "=============================================================\n",
      "\n"
     ]
    }
   ],
   "source": [
    "print(modf.summary())"
   ]
  },
  {
   "cell_type": "code",
   "execution_count": 12,
   "metadata": {},
   "outputs": [
    {
     "name": "stderr",
     "output_type": "stream",
     "text": [
      "/anaconda3/lib/python3.7/site-packages/statsmodels/regression/mixed_linear_model.py:2066: ConvergenceWarning: The Hessian matrix at the estimated parameter values is not positive definite.\n",
      "  warnings.warn(msg, ConvergenceWarning)\n"
     ]
    }
   ],
   "source": [
    "mod2 = smf.mixedlm(\"richness~flight\", dat, groups=dat[\"group\"], re_formula=\"~flight\")\n",
    "modf2 = mod2.fit()"
   ]
  },
  {
   "cell_type": "code",
   "execution_count": 13,
   "metadata": {},
   "outputs": [
    {
     "name": "stdout",
     "output_type": "stream",
     "text": [
      "                      Mixed Linear Model Regression Results\n",
      "=================================================================================\n",
      "Model:                      MixedLM         Dependent Variable:         richness \n",
      "No. Observations:           49              Method:                     REML     \n",
      "No. Groups:                 5               Scale:                      577.8678 \n",
      "Min. group size:            9               Likelihood:                 -225.4992\n",
      "Max. group size:            10              Converged:                  Yes      \n",
      "Mean group size:            9.8                                                  \n",
      "---------------------------------------------------------------------------------\n",
      "                                    Coef.   Std.Err.   z    P>|z|  [0.025  0.975]\n",
      "---------------------------------------------------------------------------------\n",
      "Intercept                           190.605   24.184  7.881 0.000 143.204 238.006\n",
      "flight[T.post]                      -30.403   12.134 -2.506 0.012 -54.185  -6.622\n",
      "flight[T.pre]                       -18.023   12.092 -1.490 0.136 -41.723   5.677\n",
      "Group Var                          2741.950  116.632                             \n",
      "Group x flight[T.post] Cov          921.818   71.507                             \n",
      "flight[T.post] Var                  361.009   56.039                             \n",
      "Group x flight[T.pre] Cov           -38.343   45.230                             \n",
      "flight[T.post] x flight[T.pre] Cov  127.418   42.493                             \n",
      "flight[T.pre] Var                   385.777   33.426                             \n",
      "=================================================================================\n",
      "\n"
     ]
    }
   ],
   "source": [
    "print(modf2.summary())"
   ]
  },
  {
   "cell_type": "code",
   "execution_count": 18,
   "metadata": {},
   "outputs": [
    {
     "data": {
      "text/plain": [
       "Linear mixed model fit by REML. t-tests use Satterthwaite's method [\n",
       "lmerModLmerTest]\n",
       "Formula: richness ~ flight + (1 | group)\n",
       "   Data: dat\n",
       "\n",
       "REML criterion at convergence: 456.1\n",
       "\n",
       "Scaled residuals: \n",
       "    Min      1Q  Median      3Q     Max \n",
       "-3.2121 -0.3281  0.0702  0.5863  2.2838 \n",
       "\n",
       "Random effects:\n",
       " Groups   Name        Variance Std.Dev.\n",
       " group    (Intercept) 3362.6   57.99   \n",
       " Residual              706.3   26.58   \n",
       "Number of obs: 49, groups:  group, 5\n",
       "\n",
       "Fixed effects:\n",
       "            Estimate Std. Error      df t value Pr(>|t|)   \n",
       "(Intercept)  190.730     26.775   4.358   7.124  0.00147 **\n",
       "flightpost   -30.528      9.563  42.008  -3.192  0.00267 **\n",
       "flightpre    -18.551      9.173  42.020  -2.022  0.04955 * \n",
       "---\n",
       "Signif. codes:  0 ‘***’ 0.001 ‘**’ 0.01 ‘*’ 0.05 ‘.’ 0.1 ‘ ’ 1\n",
       "\n",
       "Correlation of Fixed Effects:\n",
       "           (Intr) flghtps\n",
       "flightpost -0.173        \n",
       "flightpre  -0.181  0.507 \n"
      ]
     },
     "metadata": {},
     "output_type": "display_data"
    }
   ],
   "source": [
    "%%R\n",
    "library(lme4)\n",
    "library(lmerTest)\n",
    "\n",
    "dat <- read.table(\"alpha_diversity_values.txt\")\n",
    "#dat <- within(dat, flight <- relevel(flight, ref = \"pre\"))\n",
    "\n",
    "mod.richness <- lmer(richness ~ flight + (1|group), data = dat)\n",
    "summary(mod.richness)"
   ]
  },
  {
   "cell_type": "code",
   "execution_count": 19,
   "metadata": {},
   "outputs": [
    {
     "data": {
      "text/plain": [
       "Linear mixed model fit by REML. t-tests use Satterthwaite's method [\n",
       "lmerModLmerTest]\n",
       "Formula: richness ~ flight + (1 + flight | group)\n",
       "   Data: dat\n",
       "\n",
       "REML criterion at convergence: 451\n",
       "\n",
       "Scaled residuals: \n",
       "    Min      1Q  Median      3Q     Max \n",
       "-3.2081 -0.3996 -0.0067  0.5048  2.8680 \n",
       "\n",
       "Random effects:\n",
       " Groups   Name        Variance Std.Dev. Corr       \n",
       " group    (Intercept) 2742.3   52.37               \n",
       "          flightpost   361.0   19.00     0.93      \n",
       "          flightpre    385.9   19.64    -0.04  0.34\n",
       " Residual              577.9   24.04               \n",
       "Number of obs: 49, groups:  group, 5\n",
       "\n",
       "Fixed effects:\n",
       "            Estimate Std. Error      df t value Pr(>|t|)   \n",
       "(Intercept)  190.605     24.183   3.981   7.882  0.00143 **\n",
       "flightpost   -30.403     12.127   5.118  -2.507  0.05291 . \n",
       "flightpre    -18.023     12.085   3.999  -1.491  0.21014   \n",
       "---\n",
       "Signif. codes:  0 ‘***’ 0.001 ‘**’ 0.01 ‘*’ 0.05 ‘.’ 0.1 ‘ ’ 1\n",
       "\n",
       "Correlation of Fixed Effects:\n",
       "           (Intr) flghtps\n",
       "flightpost  0.505        \n",
       "flightpre  -0.151  0.422 \n"
      ]
     },
     "metadata": {},
     "output_type": "display_data"
    }
   ],
   "source": [
    "%%R\n",
    "mod2.richness <- lmer(richness ~ flight + (1+flight|group), data = dat)\n",
    "summary(mod2.richness)"
   ]
  },
  {
   "cell_type": "code",
   "execution_count": null,
   "metadata": {},
   "outputs": [],
   "source": []
  }
 ],
 "metadata": {
  "kernelspec": {
   "display_name": "Python 3",
   "language": "python",
   "name": "python3"
  },
  "language_info": {
   "codemirror_mode": {
    "name": "ipython",
    "version": 3
   },
   "file_extension": ".py",
   "mimetype": "text/x-python",
   "name": "python",
   "nbconvert_exporter": "python",
   "pygments_lexer": "ipython3",
   "version": "3.7.0"
  }
 },
 "nbformat": 4,
 "nbformat_minor": 2
}
